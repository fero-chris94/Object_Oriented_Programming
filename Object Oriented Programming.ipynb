{
 "cells": [
  {
   "attachments": {},
   "cell_type": "markdown",
   "id": "b8450cc6",
   "metadata": {},
   "source": [
    "# Object Oriented Programming (OOP)\n",
    "\n",
    "Object-Oriented Programming (OOP) is a programming paradigm that organizes code around objects\n",
    "Benefits of OOP include Better code reuse, Improved code quality, and easier code extensibility.\n",
    "Object-oriented programming (OOP) is centered on creating **classes** and **objects**"
   ]
  },
  {
   "cell_type": "code",
   "execution_count": 1,
   "id": "2ba3ac4b",
   "metadata": {},
   "outputs": [],
   "source": [
    "class Employee:\n",
    "    salary = 350000"
   ]
  },
  {
   "cell_type": "code",
   "execution_count": 2,
   "id": "da1dc9c1",
   "metadata": {},
   "outputs": [
    {
     "name": "stdout",
     "output_type": "stream",
     "text": [
      "350000\n"
     ]
    }
   ],
   "source": [
    "kemi = Employee()\n",
    "print (kemi.salary)"
   ]
  },
  {
   "cell_type": "code",
   "execution_count": 3,
   "id": "23ee9af6",
   "metadata": {},
   "outputs": [
    {
     "data": {
      "text/plain": [
       "350000"
      ]
     },
     "execution_count": 3,
     "metadata": {},
     "output_type": "execute_result"
    }
   ],
   "source": [
    "kemi.salary"
   ]
  },
  {
   "cell_type": "code",
   "execution_count": 4,
   "id": "9cba19e8",
   "metadata": {},
   "outputs": [],
   "source": [
    "# Creating a class Employee.\n",
    "class Employee:\n",
    "    def __init__(self, name, age, salary, position, department, marital_status):\n",
    "        self.name = name\n",
    "        self.age = age\n",
    "        self.salary = salary\n",
    "        self.position = position\n",
    "        self.department = department\n",
    "        self.marital_status = marital_status\n",
    "        \n",
    "    def add_age(self):\n",
    "        self.age += 1\n",
    "        \n",
    "    def get_age(self):\n",
    "        return \"Age is {}\".format(self.age)"
   ]
  },
  {
   "cell_type": "code",
   "execution_count": 5,
   "id": "b10d0ad5",
   "metadata": {},
   "outputs": [],
   "source": [
    "# Creating data for Staff member 1\n",
    "staff_1 = Employee(\"Kemi\", 25, 500000, \"Junior Associate\", \"Finance\", \"Married\")"
   ]
  },
  {
   "cell_type": "code",
   "execution_count": 6,
   "id": "cc0b6d00",
   "metadata": {},
   "outputs": [
    {
     "data": {
      "text/plain": [
       "'Kemi'"
      ]
     },
     "execution_count": 6,
     "metadata": {},
     "output_type": "execute_result"
    }
   ],
   "source": [
    "# Checcking for Name of Staff member 2\n",
    "staff_1.name"
   ]
  },
  {
   "cell_type": "code",
   "execution_count": 7,
   "id": "6c029564",
   "metadata": {},
   "outputs": [],
   "source": [
    "# Creating data for Staff member 2\n",
    "staff_2 = Employee(\"Chris\", 32, 1000000, \"Associate\", \"HR\", \"Single\")"
   ]
  },
  {
   "cell_type": "code",
   "execution_count": 8,
   "id": "53e24377",
   "metadata": {},
   "outputs": [
    {
     "data": {
      "text/plain": [
       "'Chris'"
      ]
     },
     "execution_count": 8,
     "metadata": {},
     "output_type": "execute_result"
    }
   ],
   "source": [
    "# Checcking for Name of Staff member 2\n",
    "staff_2.name  "
   ]
  },
  {
   "cell_type": "code",
   "execution_count": 9,
   "id": "2d43d625",
   "metadata": {},
   "outputs": [
    {
     "data": {
      "text/plain": [
       "32"
      ]
     },
     "execution_count": 9,
     "metadata": {},
     "output_type": "execute_result"
    }
   ],
   "source": [
    "# Checking for Age of Staff 2\n",
    "staff_2.age"
   ]
  },
  {
   "cell_type": "code",
   "execution_count": 10,
   "id": "6844a8ea",
   "metadata": {},
   "outputs": [
    {
     "data": {
      "text/plain": [
       "'Age is 33'"
      ]
     },
     "execution_count": 10,
     "metadata": {},
     "output_type": "execute_result"
    }
   ],
   "source": [
    "# Adding to Age of Staff 2 after his birthday and displaying the new age.\n",
    "staff_2.add_age()\n",
    "staff_2.get_age()"
   ]
  },
  {
   "cell_type": "markdown",
   "id": "1cdcda1b",
   "metadata": {},
   "source": [
    "## Encapsulation\n",
    "\n",
    "With Encapsulation, data and methods are hidden inside objects, protecting them from external interference and improving code security.."
   ]
  },
  {
   "cell_type": "code",
   "execution_count": 11,
   "id": "d66e5171",
   "metadata": {},
   "outputs": [],
   "source": [
    "class Sports:\n",
    "    def __init__(self):\n",
    "        self.__sportsName = \"Soccer\"  # By encapsulating the variable with the double underscore, it ensures it is private.\n",
    "        \n",
    "    def game(self):\n",
    "        print(\"The game is: {}\".format(self.__sportsName))\n",
    "        \n",
    "    def change_name(self, name):\n",
    "        self.__sportsName = name    "
   ]
  },
  {
   "cell_type": "code",
   "execution_count": 12,
   "id": "2f59b19f",
   "metadata": {},
   "outputs": [
    {
     "name": "stdout",
     "output_type": "stream",
     "text": [
      "The game is: Soccer\n"
     ]
    }
   ],
   "source": [
    "s = Sports()\n",
    "s.game()"
   ]
  },
  {
   "cell_type": "code",
   "execution_count": 13,
   "id": "0d4cf6d4",
   "metadata": {},
   "outputs": [
    {
     "name": "stdout",
     "output_type": "stream",
     "text": [
      "The game is: Soccer\n"
     ]
    }
   ],
   "source": [
    "# changing the sports name\n",
    "s.__sportsName = \"Hockey\"\n",
    "s.game()"
   ]
  },
  {
   "cell_type": "code",
   "execution_count": 14,
   "id": "7e2f349c",
   "metadata": {},
   "outputs": [
    {
     "name": "stdout",
     "output_type": "stream",
     "text": [
      "The game is: Hockey\n"
     ]
    }
   ],
   "source": [
    "# Using the setter function\n",
    "s.change_name(\"Hockey\")\n",
    "s.game()"
   ]
  },
  {
   "cell_type": "markdown",
   "id": "5a1e225d",
   "metadata": {},
   "source": [
    "## Inheritance\n",
    "\n",
    "Inheritance allows classes to inherit properties and behaviors from other classes, reducing code duplication."
   ]
  },
  {
   "cell_type": "code",
   "execution_count": 15,
   "id": "5aeefadd",
   "metadata": {},
   "outputs": [],
   "source": [
    "# The parent or super class\n",
    "class Animal:\n",
    "    def __init__(self):\n",
    "        print(\"Animal is here\")\n",
    "    def WhatistheClass(self):\n",
    "        print(\"Animal\")\n",
    "    def Run(self):\n",
    "        print(\"Runs in speed\")\n",
    "        \n",
    "# The child class\n",
    "class Lion(Animal):\n",
    "    def __init__(self):\n",
    "        # call super() function\n",
    "        super().__init__()\n",
    "        print(\"Lion is there\")\n",
    "    def WhatistheClass(self):\n",
    "        print(\"Lion\")\n",
    "    def run(self):\n",
    "        print(\"Runs in speed\")"
   ]
  },
  {
   "cell_type": "code",
   "execution_count": 16,
   "id": "dad0b705",
   "metadata": {},
   "outputs": [
    {
     "name": "stdout",
     "output_type": "stream",
     "text": [
      "Animal is here\n"
     ]
    }
   ],
   "source": [
    "mammal = Animal()"
   ]
  },
  {
   "cell_type": "code",
   "execution_count": 17,
   "id": "0266557c",
   "metadata": {},
   "outputs": [
    {
     "name": "stdout",
     "output_type": "stream",
     "text": [
      "Animal\n"
     ]
    }
   ],
   "source": [
    "mammal.WhatistheClass()"
   ]
  },
  {
   "cell_type": "code",
   "execution_count": 18,
   "id": "2b8d840e",
   "metadata": {},
   "outputs": [
    {
     "name": "stdout",
     "output_type": "stream",
     "text": [
      "Animal is here\n",
      "Lion is there\n",
      "Lion\n"
     ]
    }
   ],
   "source": [
    "Simba = Lion()\n",
    "Simba.WhatistheClass()"
   ]
  },
  {
   "cell_type": "markdown",
   "id": "182e560f",
   "metadata": {},
   "source": [
    "## Polymorphism\n",
    "\n",
    "Polymorphism enables the use of a single interface to represent multiple types of objects, improving code flexibility."
   ]
  },
  {
   "cell_type": "code",
   "execution_count": 19,
   "id": "2216cf67",
   "metadata": {},
   "outputs": [],
   "source": [
    "class Lion:\n",
    "    def Roar(self):\n",
    "        print(\"Lion can roar\")\n",
    "    def Bark(self):\n",
    "        print(\"Lion can't bark\")\n",
    "        \n",
    "class Dog:\n",
    "    def Roar(self):\n",
    "        print(\"Dog can't roar\")\n",
    "    def Bark(self):\n",
    "        print(\"Dog can bark\")"
   ]
  },
  {
   "cell_type": "code",
   "execution_count": 20,
   "id": "62ee235e",
   "metadata": {},
   "outputs": [],
   "source": [
    "#instantiate objects\n",
    "pet = Lion()\n",
    "street = Dog()"
   ]
  },
  {
   "cell_type": "code",
   "execution_count": 21,
   "id": "a1632373",
   "metadata": {},
   "outputs": [
    {
     "name": "stdout",
     "output_type": "stream",
     "text": [
      "Lion can roar\n",
      "Dog can't roar\n"
     ]
    }
   ],
   "source": [
    "pet.Roar()\n",
    "street.Roar()"
   ]
  },
  {
   "cell_type": "code",
   "execution_count": 22,
   "id": "ba4eda29",
   "metadata": {},
   "outputs": [],
   "source": [
    "class Customer:\n",
    "    def __init__(self, name, address, phone):\n",
    "        self.__name = name\n",
    "        self.__address = address\n",
    "        self.__phone = phone\n",
    "        \n",
    "    def set_name(self, name):\n",
    "        self.__name = name\n",
    "        \n",
    "    def set_address(self, address):\n",
    "        self.__address = address\n",
    "        \n",
    "    def set_phone(self, phone):\n",
    "        self.__phone = phone\n",
    "        \n",
    "    def get_name(self):\n",
    "        return self.__name\n",
    "        \n",
    "    def get_address(self):\n",
    "        return self.__address\n",
    "        \n",
    "    def get_phone(self):\n",
    "        return self.__phone    "
   ]
  },
  {
   "cell_type": "code",
   "execution_count": 23,
   "id": "6576fdfc",
   "metadata": {},
   "outputs": [],
   "source": [
    "customers = []"
   ]
  },
  {
   "cell_type": "code",
   "execution_count": 24,
   "id": "e9822e8f",
   "metadata": {},
   "outputs": [],
   "source": [
    "Cust1 = Customer(\"Evangel\", \"Sangotedo\", \"+234703572136\")\n",
    "Cust2 = Customer(\"Esther\", \"Sangotedo\", \"+234703741036\")\n",
    "Cust3 = Customer(\"Chris\", \"Ilaje\", \"+2348174915268\")\n",
    "Cust4 = Customer(\"Henry\", \"Ajah\" ,\"+2349284177428\")"
   ]
  },
  {
   "cell_type": "code",
   "execution_count": 25,
   "id": "38fb01d5",
   "metadata": {},
   "outputs": [
    {
     "data": {
      "text/plain": [
       "[<__main__.Customer at 0x2cdd6065c10>,\n",
       " <__main__.Customer at 0x2cdd6065610>,\n",
       " <__main__.Customer at 0x2cdd604e100>,\n",
       " <__main__.Customer at 0x2cdd604e070>]"
      ]
     },
     "execution_count": 25,
     "metadata": {},
     "output_type": "execute_result"
    }
   ],
   "source": [
    "customers.append(Cust1)\n",
    "customers.append(Cust2)\n",
    "customers.append(Cust3)\n",
    "customers.append(Cust4)\n",
    "customers"
   ]
  },
  {
   "cell_type": "code",
   "execution_count": 26,
   "id": "d7c2b1d1",
   "metadata": {
    "scrolled": true
   },
   "outputs": [
    {
     "name": "stdout",
     "output_type": "stream",
     "text": [
      "Evangel\n",
      "Esther\n",
      "Chris\n",
      "Henry\n"
     ]
    }
   ],
   "source": [
    "for customer in customers:\n",
    "    print(customer.get_name())"
   ]
  },
  {
   "cell_type": "markdown",
   "id": "add7088f",
   "metadata": {},
   "source": [
    "## Abstraction \n",
    "\n",
    "Abstraction involves hiding complex details and showing only the essential features of an object.. "
   ]
  },
  {
   "cell_type": "markdown",
   "id": "3b4be6f5",
   "metadata": {},
   "source": [
    "### Cellphone Class"
   ]
  },
  {
   "cell_type": "code",
   "execution_count": 27,
   "id": "45c1bb5f",
   "metadata": {},
   "outputs": [],
   "source": [
    "class Cellphone:\n",
    "    #The __init__ method initializes the attributes.\n",
    "    def __init__(self, manufact, model, price):\n",
    "        self.__manufact = manufact\n",
    "        self.__model = model\n",
    "        self.__retail_price = price\n",
    "        \n",
    "    def set_manufact(self, manufact):\n",
    "        self.__manufact = manufact\n",
    "        \n",
    "    def set_model(self, model):\n",
    "        self.__model = model\n",
    "        \n",
    "    def set_retail_price(self, retail_price):\n",
    "        self.__retail_price = price\n",
    "        \n",
    "    def get_manufact(self):\n",
    "        return self.__manufact\n",
    "    \n",
    "    def get_model(self):\n",
    "        return self.__model\n",
    "    \n",
    "    def get_retail_price(self):\n",
    "        return self.__retail_price"
   ]
  },
  {
   "cell_type": "code",
   "execution_count": 28,
   "id": "e2ba1fa0",
   "metadata": {},
   "outputs": [],
   "source": [
    "cellphones = []"
   ]
  },
  {
   "cell_type": "code",
   "execution_count": 29,
   "id": "3f41d54b",
   "metadata": {},
   "outputs": [],
   "source": [
    "cell_1 = Cellphone(\"Tecno\", \"Pop\", \"500000\")\n",
    "cell_2 = Cellphone(\"Samsung\", \"S22 Ultra\", \"800000\")\n",
    "cell_3 = Cellphone(\"Google\", \"Pixel 7 pro\", \"740000\")\n",
    "cell_4 = Cellphone(\"Infinix\", \"Hot30\", \"340000\")"
   ]
  },
  {
   "cell_type": "code",
   "execution_count": 30,
   "id": "02c600cb",
   "metadata": {},
   "outputs": [
    {
     "data": {
      "text/plain": [
       "[<__main__.Cellphone at 0x2cdd60565b0>,\n",
       " <__main__.Cellphone at 0x2cdd60568b0>,\n",
       " <__main__.Cellphone at 0x2cdd6056130>,\n",
       " <__main__.Cellphone at 0x2cdd6056970>]"
      ]
     },
     "execution_count": 30,
     "metadata": {},
     "output_type": "execute_result"
    }
   ],
   "source": [
    "cellphones.append(cell_1)\n",
    "cellphones.append(cell_2)\n",
    "cellphones.append(cell_3)\n",
    "cellphones.append(cell_4)\n",
    "cellphones"
   ]
  },
  {
   "cell_type": "code",
   "execution_count": 31,
   "id": "10af1691",
   "metadata": {},
   "outputs": [
    {
     "name": "stdout",
     "output_type": "stream",
     "text": [
      "Tecno\n",
      "Samsung\n",
      "Google\n",
      "Infinix\n"
     ]
    }
   ],
   "source": [
    "for cellphone in cellphones:\n",
    "    print(cellphone.get_manufact())"
   ]
  },
  {
   "cell_type": "markdown",
   "id": "04cb9dd7",
   "metadata": {},
   "source": [
    "### Automobile Class (Super Class)"
   ]
  },
  {
   "cell_type": "code",
   "execution_count": 32,
   "id": "a87c1cbf",
   "metadata": {},
   "outputs": [],
   "source": [
    "# Super Class Automobile\n",
    "\n",
    "class Automobile:\n",
    "    def __init__(self, make, model, mileage, price):\n",
    "        self.__make = make\n",
    "        self.__model = model\n",
    "        self.__mileage = mileage\n",
    "        self.__price = price\n",
    "        \n",
    "    def set_make(self, make):\n",
    "        self.__make = make\n",
    "        \n",
    "    def set_model(self, model):\n",
    "        self.__model = model\n",
    "        \n",
    "    def set_mileage(self, mileage):\n",
    "        self.__mileage = mileage\n",
    "        \n",
    "    def set_price(self, price):\n",
    "        self.__price = price\n",
    "        \n",
    "    def get_make(self):\n",
    "        return self.__make\n",
    "        \n",
    "    def get_model(self):\n",
    "        return self.__model\n",
    "        \n",
    "    def get_mileage(self):\n",
    "        return self.__mileage\n",
    "        \n",
    "    def get_price(self):\n",
    "        return self.__price"
   ]
  },
  {
   "cell_type": "markdown",
   "id": "d978af47",
   "metadata": {},
   "source": [
    "#### Car Class (Child Class)"
   ]
  },
  {
   "cell_type": "code",
   "execution_count": 41,
   "id": "45cb7d43",
   "metadata": {},
   "outputs": [],
   "source": [
    "# Child class of the super class \"Automobile\"\n",
    "\n",
    "class Car(Automobile):\n",
    "    def __init__(self, make, model, mileage, price, doors):\n",
    "        super().__init__(make, model, mileage, price)\n",
    "        self.__doors = doors\n",
    "    \n",
    "    def set_doors(self, doors):\n",
    "        self.__doors = doors\n",
    "        \n",
    "    def get_doors(self):\n",
    "        return self.__doors\n",
    "    "
   ]
  },
  {
   "cell_type": "markdown",
   "id": "6ec5acf8",
   "metadata": {},
   "source": [
    "#### Truck Class (Child Class)"
   ]
  },
  {
   "cell_type": "code",
   "execution_count": 42,
   "id": "c2e67be0",
   "metadata": {},
   "outputs": [],
   "source": [
    "# Child class of Super class \"Automobile\"\n",
    "\n",
    "class Truck(Automobile):\n",
    "    def __init__(self, make, model, mileage, price, drive_type):\n",
    "        super().__init__(make, model, mileage, price)\n",
    "        self.__drive_type = drive_type\n",
    "    \n",
    "    def set_drive_type(self, drive_type):\n",
    "        self.__drive_type = drive_type\n",
    "        \n",
    "    def get_drive_type(self):\n",
    "        return self.__drive_type"
   ]
  },
  {
   "cell_type": "markdown",
   "id": "a8888683",
   "metadata": {},
   "source": [
    "#### SUV Class (Child Class)"
   ]
  },
  {
   "cell_type": "code",
   "execution_count": 43,
   "id": "f07c3c98",
   "metadata": {},
   "outputs": [],
   "source": [
    "# Child class of Super class \"Automobile\"\n",
    "\n",
    "class SUV(Automobile):\n",
    "    def __init__(self, make, model, mileage, price, pass_cap):\n",
    "        super().__init__(make, model, mileage, price)\n",
    "        self.__pass_cap = pass_cap\n",
    "    \n",
    "    def set_pass_cap(self, pass_cap):\n",
    "        self.__pass_cap = pass_cap\n",
    "        \n",
    "    def get_pass_cap(self):\n",
    "        return self.__pass_cap"
   ]
  },
  {
   "cell_type": "code",
   "execution_count": 44,
   "id": "a533f8c1",
   "metadata": {},
   "outputs": [],
   "source": [
    "cars = Car(\"BMW\", 2021, 7000, 85000, 4)"
   ]
  },
  {
   "cell_type": "code",
   "execution_count": 46,
   "id": "b6907bd6",
   "metadata": {},
   "outputs": [],
   "source": [
    "trucks = Truck(\"Tundra\", 2020, 20000, 91000, \"AWD\")"
   ]
  },
  {
   "cell_type": "code",
   "execution_count": 47,
   "id": "2dbb137e",
   "metadata": {},
   "outputs": [],
   "source": [
    "suv = SUV(\"LandRover\", 2022, 500, 98000, \"4WD\")"
   ]
  },
  {
   "cell_type": "code",
   "execution_count": 51,
   "id": "1def39f9",
   "metadata": {},
   "outputs": [
    {
     "name": "stdout",
     "output_type": "stream",
     "text": [
      "USED CAR INVENTORY\n",
      "===================\n",
      "The following car is in inventory\n",
      "Make: BMW\n",
      "Model: 2021\n",
      "Mileage: 7000\n",
      "Price: 85000\n"
     ]
    }
   ],
   "source": [
    "# print the car's data\n",
    "\n",
    "print(\"USED CAR INVENTORY\")\n",
    "print(\"===================\")\n",
    "print(\"The following car is in inventory\")\n",
    "print(\"Make:\", cars.get_make())\n",
    "print(\"Model:\", cars.get_model())\n",
    "print(\"Mileage:\", cars.get_mileage())\n",
    "print(\"Price:\", cars.get_price())"
   ]
  },
  {
   "cell_type": "code",
   "execution_count": null,
   "id": "dcee60b3",
   "metadata": {},
   "outputs": [],
   "source": []
  }
 ],
 "metadata": {
  "kernelspec": {
   "display_name": "Python 3 (ipykernel)",
   "language": "python",
   "name": "python3"
  },
  "language_info": {
   "codemirror_mode": {
    "name": "ipython",
    "version": 3
   },
   "file_extension": ".py",
   "mimetype": "text/x-python",
   "name": "python",
   "nbconvert_exporter": "python",
   "pygments_lexer": "ipython3",
   "version": "3.9.12"
  }
 },
 "nbformat": 4,
 "nbformat_minor": 5
}
