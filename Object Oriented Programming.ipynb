{
 "cells": [
  {
   "cell_type": "markdown",
   "id": "b4ceb7d3",
   "metadata": {},
   "source": [
    "# Object Oriented Programming (OOP)"
   ]
  },
  {
   "cell_type": "code",
   "execution_count": 1,
   "id": "20f0b509",
   "metadata": {},
   "outputs": [],
   "source": [
    "class Employee:\n",
    "    salary = 350000"
   ]
  },
  {
   "cell_type": "code",
   "execution_count": 2,
   "id": "26110d15",
   "metadata": {},
   "outputs": [
    {
     "name": "stdout",
     "output_type": "stream",
     "text": [
      "350000\n"
     ]
    }
   ],
   "source": [
    "kemi = Employee()\n",
    "print (kemi.salary)"
   ]
  },
  {
   "cell_type": "code",
   "execution_count": 3,
   "id": "8f12f642",
   "metadata": {},
   "outputs": [
    {
     "data": {
      "text/plain": [
       "350000"
      ]
     },
     "execution_count": 3,
     "metadata": {},
     "output_type": "execute_result"
    }
   ],
   "source": [
    "kemi.salary"
   ]
  },
  {
   "cell_type": "code",
   "execution_count": 4,
   "id": "39843d24",
   "metadata": {},
   "outputs": [],
   "source": [
    "# Creating a class Employee.\n",
    "class Employee:\n",
    "    def __init__(self, name, age, salary, position, department, marital_status):\n",
    "        self.name = name\n",
    "        self.age = age\n",
    "        self.salary = salary\n",
    "        self.position = position\n",
    "        self.department = department\n",
    "        self.marital_status = marital_status\n",
    "        \n",
    "    def add_age(self):\n",
    "        self.age += 1\n",
    "        \n",
    "    def get_age(self):\n",
    "        return \"Age is {}\".format(self.age)"
   ]
  },
  {
   "cell_type": "code",
   "execution_count": 5,
   "id": "4505c228",
   "metadata": {},
   "outputs": [],
   "source": [
    "# Creating data for Staff member 1\n",
    "staff_1 = Employee(\"Kemi\", 25, 500000, \"Junior Associate\", \"Finance\", \"Married\")"
   ]
  },
  {
   "cell_type": "code",
   "execution_count": 6,
   "id": "6865e747",
   "metadata": {},
   "outputs": [
    {
     "data": {
      "text/plain": [
       "'Kemi'"
      ]
     },
     "execution_count": 6,
     "metadata": {},
     "output_type": "execute_result"
    }
   ],
   "source": [
    "# Checcking for Name of Staff member 2\n",
    "staff_1.name"
   ]
  },
  {
   "cell_type": "code",
   "execution_count": 7,
   "id": "419f4451",
   "metadata": {},
   "outputs": [],
   "source": [
    "# Creating data for Staff member 2\n",
    "staff_2 = Employee(\"Chris\", 32, 1000000, \"Associate\", \"HR\", \"Single\")"
   ]
  },
  {
   "cell_type": "code",
   "execution_count": 8,
   "id": "2f988931",
   "metadata": {},
   "outputs": [
    {
     "data": {
      "text/plain": [
       "'Chris'"
      ]
     },
     "execution_count": 8,
     "metadata": {},
     "output_type": "execute_result"
    }
   ],
   "source": [
    "# Checcking for Name of Staff member 2\n",
    "staff_2.name  "
   ]
  },
  {
   "cell_type": "code",
   "execution_count": 9,
   "id": "7bfcfe05",
   "metadata": {},
   "outputs": [
    {
     "data": {
      "text/plain": [
       "32"
      ]
     },
     "execution_count": 9,
     "metadata": {},
     "output_type": "execute_result"
    }
   ],
   "source": [
    "# Checking for Age of Staff 2\n",
    "staff_2.age"
   ]
  },
  {
   "cell_type": "code",
   "execution_count": 10,
   "id": "04044c12",
   "metadata": {},
   "outputs": [
    {
     "data": {
      "text/plain": [
       "'Age is 33'"
      ]
     },
     "execution_count": 10,
     "metadata": {},
     "output_type": "execute_result"
    }
   ],
   "source": [
    "# Adding to Age of Staff 2 after his birthday and displaying the new age.\n",
    "staff_2.add_age()\n",
    "staff_2.get_age()"
   ]
  },
  {
   "cell_type": "markdown",
   "id": "1183547e",
   "metadata": {},
   "source": [
    "## Encapsulation"
   ]
  },
  {
   "cell_type": "code",
   "execution_count": 11,
   "id": "1c35893f",
   "metadata": {},
   "outputs": [],
   "source": [
    "class Sports:\n",
    "    def __init__(self):\n",
    "        self.__sportsName = \"Soccer\"  # By encapsulating the variable with the double underscore, it ensures it is private.\n",
    "        \n",
    "    def game(self):\n",
    "        print(\"The game is: {}\".format(self.__sportsName))\n",
    "        \n",
    "    def change_name(self, name):\n",
    "        self.__sportsName = name    "
   ]
  },
  {
   "cell_type": "code",
   "execution_count": 12,
   "id": "b9c62e92",
   "metadata": {},
   "outputs": [
    {
     "name": "stdout",
     "output_type": "stream",
     "text": [
      "The game is: Soccer\n"
     ]
    }
   ],
   "source": [
    "s = Sports()\n",
    "s.game()"
   ]
  },
  {
   "cell_type": "code",
   "execution_count": 13,
   "id": "913b742f",
   "metadata": {},
   "outputs": [
    {
     "name": "stdout",
     "output_type": "stream",
     "text": [
      "The game is: Soccer\n"
     ]
    }
   ],
   "source": [
    "# changing the sports name\n",
    "s.__sportsName = \"Hockey\"\n",
    "s.game()"
   ]
  },
  {
   "cell_type": "code",
   "execution_count": 14,
   "id": "01aaded6",
   "metadata": {},
   "outputs": [
    {
     "name": "stdout",
     "output_type": "stream",
     "text": [
      "The game is: Hockey\n"
     ]
    }
   ],
   "source": [
    "# Using the setter function\n",
    "s.change_name(\"Hockey\")\n",
    "s.game()"
   ]
  }
 ],
 "metadata": {
  "kernelspec": {
   "display_name": "Python 3 (ipykernel)",
   "language": "python",
   "name": "python3"
  },
  "language_info": {
   "codemirror_mode": {
    "name": "ipython",
    "version": 3
   },
   "file_extension": ".py",
   "mimetype": "text/x-python",
   "name": "python",
   "nbconvert_exporter": "python",
   "pygments_lexer": "ipython3",
   "version": "3.9.12"
  }
 },
 "nbformat": 4,
 "nbformat_minor": 5
}
